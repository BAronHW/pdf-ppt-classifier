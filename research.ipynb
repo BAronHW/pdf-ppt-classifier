{
 "cells": [
  {
   "cell_type": "code",
   "execution_count": null,
   "metadata": {},
   "outputs": [],
   "source": [
    "\n"
   ]
  },
  {
   "cell_type": "markdown",
   "metadata": {},
   "source": [
    "Initial Thoughts:\n",
    "\n",
    "With my personal experience dealing with machine learning/AI problems I would like to approach this using a more traditional machine learning approach with traditional models like SVM or logistic regression etc.\n",
    "\n",
    "I can also see that there are two files that have been given to me called documents for pdfs and powerpoints for powerpoints. \n",
    "\n",
    "My initial step is to create a training and testing split for the undecided model. This should be a 80 : 20 split with 80% of the data going towards training and 20% to testing and within both training and testing there should be no re-curring data-points and within each data split there should also be proportional representation of the both classes.\n",
    "\n",
    "My second step would be to encode the data in a form that would allow the selected model to make a better judgment.\n",
    "\n",
    "Another thought: Maybe I can choose multiple models and take a majority vote to create an ensemble method.\n",
    "\n",
    "The features that I have decided to use to extract from the .pdf files are the average RGB values of a single document and also their corresponding average word-count per page.\n",
    "\n",
    "the idea is now to use the dataframe from the datasplit to calculate the features for each of the .pdf files belonging to both classes."
   ]
  }
 ],
 "metadata": {
  "language_info": {
   "name": "python"
  }
 },
 "nbformat": 4,
 "nbformat_minor": 2
}
